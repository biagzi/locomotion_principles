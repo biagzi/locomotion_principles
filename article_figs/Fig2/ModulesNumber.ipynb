{
 "cells": [
  {
   "cell_type": "code",
   "execution_count": 16,
   "metadata": {},
   "outputs": [
    {
     "ename": "ModuleNotFoundError",
     "evalue": "No module named 'create_data_for_figs'",
     "output_type": "error",
     "traceback": [
      "\u001b[0;31m---------------------------------------------------------------------------\u001b[0m",
      "\u001b[0;31mModuleNotFoundError\u001b[0m                       Traceback (most recent call last)",
      "\u001b[0;32m<ipython-input-16-1b74a9016d3b>\u001b[0m in \u001b[0;36m<module>\u001b[0;34m()\u001b[0m\n\u001b[1;32m      9\u001b[0m \u001b[0;34m\u001b[0m\u001b[0m\n\u001b[1;32m     10\u001b[0m \u001b[0msys\u001b[0m\u001b[0;34m.\u001b[0m\u001b[0mpath\u001b[0m\u001b[0;34m.\u001b[0m\u001b[0minsert\u001b[0m\u001b[0;34m(\u001b[0m\u001b[0;36m0\u001b[0m\u001b[0;34m,\u001b[0m \u001b[0mos\u001b[0m\u001b[0;34m.\u001b[0m\u001b[0mpath\u001b[0m\u001b[0;34m.\u001b[0m\u001b[0mabspath\u001b[0m\u001b[0;34m(\u001b[0m\u001b[0;34m'~locomotion_principles/article_figs/'\u001b[0m\u001b[0;34m)\u001b[0m\u001b[0;34m)\u001b[0m\u001b[0;34m\u001b[0m\u001b[0;34m\u001b[0m\u001b[0m\n\u001b[0;32m---> 11\u001b[0;31m \u001b[0;32mfrom\u001b[0m \u001b[0mcreate_data_for_figs\u001b[0m \u001b[0;32mimport\u001b[0m \u001b[0mcreate_modules_data\u001b[0m\u001b[0;34m\u001b[0m\u001b[0;34m\u001b[0m\u001b[0m\n\u001b[0m\u001b[1;32m     12\u001b[0m \u001b[0;31m#use python 3\u001b[0m\u001b[0;34m\u001b[0m\u001b[0;34m\u001b[0m\u001b[0;34m\u001b[0m\u001b[0m\n",
      "\u001b[0;31mModuleNotFoundError\u001b[0m: No module named 'create_data_for_figs'"
     ]
    }
   ],
   "source": [
    "import os\n",
    "import sys\n",
    "import numpy as np\n",
    "import pickle\n",
    "import matplotlib.pyplot as plt\n",
    "import matplotlib.cm as cm\n",
    "import pandas as pd\n",
    "import seaborn as sns\n",
    "\n",
    "sys.path.insert(0, os.path.abspath('~locomotion_principles/article_figs/'))\n",
    "from create_data_for_figs import create_modules_data\n",
    "#use python 3"
   ]
  },
  {
   "cell_type": "code",
   "execution_count": 13,
   "metadata": {},
   "outputs": [],
   "source": [
    "EPS = 1.2\n",
    "EPS_PO = 0.02\n",
    "CLUSTERING_NAME = \"{0}-{1}\".format(EPS,EPS_PO)\n",
    "MAX_GEN = 1500"
   ]
  },
  {
   "cell_type": "markdown",
   "metadata": {},
   "source": [
    "## Choose experiment"
   ]
  },
  {
   "cell_type": "code",
   "execution_count": 14,
   "metadata": {},
   "outputs": [],
   "source": [
    "all_exps_infos = {'AQUA':[1,30,4,'CPPN'],'MARS':[1,30,4,'CPPN'],'EARTH':[1,30,4,'CPPN']}\n",
    "exp_list_name = 'CPPN_4^3' \n",
    "\n",
    "#all_exps_infos = {'AQUA':[1,20,4,'DE'],'MARS':[1,20,4,'DE'],'EARTH':[1,20,4,'DE']}\n",
    "#exp_list_name = 'DE_4^3'\n",
    "\n",
    "#all_exps_infos = {'AQUA':[1,30,6,'CPPN'],'MARS':[1,30,6,'CPPN'],'EARTH':[1,30,6,'CPPN']}\n",
    "#exp_list_name = 'CPPN_6^3' \n",
    "\n",
    "\n",
    "# all_exps_infos = {'AQUA':[1,5,8,'CPPN'],'MARS':[1,5,8,'CPPN'],'EARTH':[1,5,8,'CPPN']}\n",
    "# exp_list_name = 'CPPN_8^3'\n"
   ]
  },
  {
   "cell_type": "code",
   "execution_count": 15,
   "metadata": {},
   "outputs": [
    {
     "ename": "NameError",
     "evalue": "name 'create_modules_data' is not defined",
     "output_type": "error",
     "traceback": [
      "\u001b[0;31m---------------------------------------------------------------------------\u001b[0m",
      "\u001b[0;31mIndexError\u001b[0m                                Traceback (most recent call last)",
      "\u001b[0;32m<ipython-input-15-e513e6c96a29>\u001b[0m in \u001b[0;36m<module>\u001b[0;34m()\u001b[0m\n\u001b[1;32m     13\u001b[0m         \u001b[0;32mtry\u001b[0m\u001b[0;34m:\u001b[0m\u001b[0;34m\u001b[0m\u001b[0;34m\u001b[0m\u001b[0m\n\u001b[0;32m---> 14\u001b[0;31m             \u001b[0;32mwith\u001b[0m \u001b[0mopen\u001b[0m\u001b[0;34m(\u001b[0m\u001b[0;34m\"~/locomotion_principles/article_figs/Fig2/NumberModulesData/DictSegmentCalcs_{1}.pickle\"\u001b[0m\u001b[0;34m.\u001b[0m\u001b[0mformat\u001b[0m\u001b[0;34m(\u001b[0m\u001b[0mEXP_NAME\u001b[0m\u001b[0;34m)\u001b[0m\u001b[0;34m,\u001b[0m \u001b[0;34m'rb'\u001b[0m\u001b[0;34m)\u001b[0m \u001b[0;32mas\u001b[0m \u001b[0mhandle\u001b[0m\u001b[0;34m:\u001b[0m\u001b[0;34m\u001b[0m\u001b[0;34m\u001b[0m\u001b[0m\n\u001b[0m\u001b[1;32m     15\u001b[0m                 \u001b[0md\u001b[0m \u001b[0;34m=\u001b[0m \u001b[0mpickle\u001b[0m\u001b[0;34m.\u001b[0m\u001b[0mload\u001b[0m\u001b[0;34m(\u001b[0m\u001b[0mhandle\u001b[0m\u001b[0;34m,\u001b[0m\u001b[0mencoding\u001b[0m\u001b[0;34m=\u001b[0m\u001b[0;34m'latin1'\u001b[0m\u001b[0;34m)\u001b[0m\u001b[0;34m\u001b[0m\u001b[0;34m\u001b[0m\u001b[0m\n",
      "\u001b[0;31mIndexError\u001b[0m: tuple index out of range",
      "\nDuring handling of the above exception, another exception occurred:\n",
      "\u001b[0;31mNameError\u001b[0m                                 Traceback (most recent call last)",
      "\u001b[0;32m<ipython-input-15-e513e6c96a29>\u001b[0m in \u001b[0;36m<module>\u001b[0;34m()\u001b[0m\n\u001b[1;32m     15\u001b[0m                 \u001b[0md\u001b[0m \u001b[0;34m=\u001b[0m \u001b[0mpickle\u001b[0m\u001b[0;34m.\u001b[0m\u001b[0mload\u001b[0m\u001b[0;34m(\u001b[0m\u001b[0mhandle\u001b[0m\u001b[0;34m,\u001b[0m\u001b[0mencoding\u001b[0m\u001b[0;34m=\u001b[0m\u001b[0;34m'latin1'\u001b[0m\u001b[0;34m)\u001b[0m\u001b[0;34m\u001b[0m\u001b[0;34m\u001b[0m\u001b[0m\n\u001b[1;32m     16\u001b[0m         \u001b[0;32mexcept\u001b[0m\u001b[0;34m:\u001b[0m\u001b[0;34m\u001b[0m\u001b[0;34m\u001b[0m\u001b[0m\n\u001b[0;32m---> 17\u001b[0;31m             \u001b[0md\u001b[0m \u001b[0;34m=\u001b[0m \u001b[0mcreate_modules_data\u001b[0m\u001b[0;34m(\u001b[0m\u001b[0mENV\u001b[0m\u001b[0;34m,\u001b[0m\u001b[0mSIZE\u001b[0m\u001b[0;34m,\u001b[0m\u001b[0mSEED_INIT\u001b[0m\u001b[0;34m,\u001b[0m\u001b[0mSEED_END\u001b[0m\u001b[0;34m,\u001b[0m \u001b[0mEXP_NAME\u001b[0m\u001b[0;34m,\u001b[0m\u001b[0;36m1500\u001b[0m\u001b[0;34m,\u001b[0m\u001b[0mCLUSTERING_NAME\u001b[0m\u001b[0;34m)\u001b[0m\u001b[0;34m\u001b[0m\u001b[0;34m\u001b[0m\u001b[0m\n\u001b[0m\u001b[1;32m     18\u001b[0m \u001b[0;34m\u001b[0m\u001b[0m\n\u001b[1;32m     19\u001b[0m         \u001b[0mExpdata\u001b[0m \u001b[0;34m=\u001b[0m \u001b[0mpd\u001b[0m\u001b[0;34m.\u001b[0m\u001b[0mDataFrame\u001b[0m\u001b[0;34m(\u001b[0m\u001b[0mdata\u001b[0m \u001b[0;34m=\u001b[0m \u001b[0md\u001b[0m\u001b[0;34m)\u001b[0m\u001b[0;34m\u001b[0m\u001b[0;34m\u001b[0m\u001b[0m\n",
      "\u001b[0;31mNameError\u001b[0m: name 'create_modules_data' is not defined"
     ]
    }
   ],
   "source": [
    "total_data = pd.DataFrame()\n",
    "for ENV in all_exps_infos:\n",
    "        SEED_INIT = all_exps_infos[ENV][0]\n",
    "        SEED_END = all_exps_infos[ENV][1]\n",
    "        SIZE = all_exps_infos[ENV][2]\n",
    "        GENOTYPE = all_exps_infos[ENV][3]\n",
    "        \n",
    "        if GENOTYPE == 'CPPN':\n",
    "                EXP_NAME = 'Final_{0}_{1}'.format(SIZE,ENV)\n",
    "        elif GENOTYPE == 'DE':\n",
    "                EXP_NAME = 'Final_{0}_{1}_DirectEncode'.format(SIZE,ENV)\n",
    "\n",
    "        try:\n",
    "            with open(\"~/locomotion_principles/article_figs/Fig2/NumberModulesData/DictSegmentCalcs_{1}.pickle\".format(EXP_NAME), 'rb') as handle:\n",
    "                d = pickle.load(handle,encoding='latin1')\n",
    "        except:\n",
    "            d = create_modules_data(ENV,SIZE,SEED_INIT,SEED_END, EXP_NAME,1500,CLUSTERING_NAME)\n",
    "                \n",
    "        Expdata = pd.DataFrame(data = d)\n",
    "        total_data = total_data.append(Expdata)\n",
    "\n",
    "data = pd.DataFrame()\n",
    "data = data.append(total_data[(total_data.Exp == 'AQUA') & (total_data.stiff == 5e5)])\n",
    "data = data.append(total_data[(total_data.Exp == 'MARS') & (total_data.stiff == 5e7)])\n",
    "data = data.append(total_data[(total_data.Exp == 'EARTH') & (total_data.stiff == 5e7)])\n",
    "print('FINISH - generating data frames to plot')\n",
    "\n",
    "if SIZE == 4:\n",
    "        MAXX = 50\n",
    "        min = 1/(10**5)\n",
    "elif SIZE == 6:\n",
    "        MAXX = 150\n",
    "        min = 1/(10**6)     \n",
    "        if GENOTYPE == 'DE':\n",
    "                MAXX = 80\n",
    "                min = 1/(10**5)    \n",
    "elif SIZE == 8:\n",
    "        MAXX = 100\n",
    "        min = 1/(10**5)\n",
    "        if GENOTYPE == 'DE':\n",
    "                MAXX = 140  "
   ]
  },
  {
   "cell_type": "code",
   "execution_count": null,
   "metadata": {},
   "outputs": [],
   "source": []
  }
 ],
 "metadata": {
  "kernelspec": {
   "display_name": "Python 3.6.13 ('python3')",
   "language": "python",
   "name": "python3"
  },
  "language_info": {
   "codemirror_mode": {
    "name": "ipython",
    "version": 3
   },
   "file_extension": ".py",
   "mimetype": "text/x-python",
   "name": "python",
   "nbconvert_exporter": "python",
   "pygments_lexer": "ipython3",
   "version": "3.6.13"
  },
  "orig_nbformat": 4,
  "vscode": {
   "interpreter": {
    "hash": "cb2bbfe96151b3affda237293ce0e4190ec2d328bec4ad4f32e4843d84569a2b"
   }
  }
 },
 "nbformat": 4,
 "nbformat_minor": 2
}
